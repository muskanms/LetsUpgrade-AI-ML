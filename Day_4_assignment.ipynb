{
  "nbformat": 4,
  "nbformat_minor": 0,
  "metadata": {
    "colab": {
      "name": "Day_4 assignment.ipynb",
      "provenance": [],
      "authorship_tag": "ABX9TyMwvGMATEGffIuqkc9XFVO2",
      "include_colab_link": true
    },
    "kernelspec": {
      "name": "python3",
      "display_name": "Python 3"
    }
  },
  "cells": [
    {
      "cell_type": "markdown",
      "metadata": {
        "id": "view-in-github",
        "colab_type": "text"
      },
      "source": [
        "<a href=\"https://colab.research.google.com/github/muskanms/LetsUpgrade-AI-ML-DL/blob/master/Day_4_assignment.ipynb\" target=\"_parent\"><img src=\"https://colab.research.google.com/assets/colab-badge.svg\" alt=\"Open In Colab\"/></a>"
      ]
    },
    {
      "cell_type": "code",
      "metadata": {
        "id": "N9I6iZBB2I-l",
        "colab_type": "code",
        "colab": {
          "base_uri": "https://localhost:8080/",
          "height": 84
        },
        "outputId": "6bc44f4f-7cab-4993-be3d-5f19e8d3506c"
      },
      "source": [
        "#Question 1 :Research on whether addition, subtraction, multiplication, division, floor division, and modulo operationsbe performed on complex numbers.\n",
        "#Based on your study, implement a Python program to demonstratethese operations.\n",
        "a=complex(2,4)\n",
        "b=complex(1,3)\n",
        "add=a+b\n",
        "sub=a-b\n",
        "mul=a*b\n",
        "div=a/b\n",
        "#f_div=a//b      floor division is not possible\n",
        "#m_div=a%b        modulo division is not possible\n",
        "print(add)\n",
        "print(sub)\n",
        "print(mul)\n",
        "print(div)\n",
        "#print(f_div)\n",
        "#print(m_div)"
      ],
      "execution_count": null,
      "outputs": [
        {
          "output_type": "stream",
          "text": [
            "(3+7j)\n",
            "(1+1j)\n",
            "(-10+10j)\n",
            "(1.4000000000000001-0.2j)\n"
          ],
          "name": "stdout"
        }
      ]
    },
    {
      "cell_type": "code",
      "metadata": {
        "id": "mTAMOIoB5ypG",
        "colab_type": "code",
        "colab": {}
      },
      "source": [
        "#Question 2 : Research on range() functions and its parameters. Create a markdown cell and write in your own words\n",
        "#(no copy-paste from google please) what you understand about it. Implement a small program of your choice on the same."
      ],
      "execution_count": null,
      "outputs": []
    },
    {
      "cell_type": "markdown",
      "metadata": {
        "id": "MRUEThb4Lgkv",
        "colab_type": "text"
      },
      "source": [
        "range() function:\n",
        "         It is used for generating the sequence of numbers.range()\n",
        "         function takes starting point and ending point and by taking that it       generates all the numbers which comes inbetween them.\n",
        "  syntax: range(start,stop,step)\n",
        "  its parameters:\n",
        "     1.start: it specifies from which number it should start\n",
        "     2.stop:it specifies at which number it should stop for example range(2,5)\n",
        "           that means it stops at 5-1=4.\n",
        "     3.step:it specifies the increment/decrement for example range(3,10,2)\n",
        "        it gives output as 3,5,7,9\n",
        "         \n",
        "\n"
      ]
    },
    {
      "cell_type": "code",
      "metadata": {
        "id": "XdUXWTvrMoW9",
        "colab_type": "code",
        "colab": {
          "base_uri": "https://localhost:8080/",
          "height": 201
        },
        "outputId": "c9ae3e75-0a3c-431a-d5a4-46b5cca9b254"
      },
      "source": [
        "#q2 continuation\n",
        "for i in range(1,12):\n",
        "  print(i)"
      ],
      "execution_count": null,
      "outputs": [
        {
          "output_type": "stream",
          "text": [
            "1\n",
            "2\n",
            "3\n",
            "4\n",
            "5\n",
            "6\n",
            "7\n",
            "8\n",
            "9\n",
            "10\n",
            "11\n"
          ],
          "name": "stdout"
        }
      ]
    },
    {
      "cell_type": "code",
      "metadata": {
        "id": "rbWaGHDDNJ6V",
        "colab_type": "code",
        "colab": {
          "base_uri": "https://localhost:8080/",
          "height": 33
        },
        "outputId": "254499d2-16cc-4ed4-c56a-28a17b779c8d"
      },
      "source": [
        "#Question 3:Consider two numbers. Perform their subtraction and if the result of subtraction is greater than 25, print\n",
        "#their multiplication result else print their division result.\n",
        "\n",
        "\n",
        "\n",
        "a=30\n",
        "b=10\n",
        "c=a-b\n",
        "if c>25:\n",
        "  d=a*b\n",
        "  print(d)\n",
        "else:\n",
        "  div=a/b\n",
        "  print(div)"
      ],
      "execution_count": null,
      "outputs": [
        {
          "output_type": "stream",
          "text": [
            "3.0\n"
          ],
          "name": "stdout"
        }
      ]
    },
    {
      "cell_type": "code",
      "metadata": {
        "id": "R2YlDMTlNyoM",
        "colab_type": "code",
        "colab": {
          "base_uri": "https://localhost:8080/",
          "height": 150
        },
        "outputId": "3baf54a6-9671-43cb-a11f-e035c47a57be"
      },
      "source": [
        "#Question 4:\n",
        "#Consider a list of 10 elements of integer values. If the number in the list is divisible by 2, print the result as \"square of that number minus 2\".\n",
        "\n",
        "list=[1,4,5,67,3,45,6,2,3,4]\n",
        "for i in list:\n",
        "  if i%2==0:\n",
        "    a=(i**2)-2\n",
        "    print('square of',i, \"minus 2 is\".format(i))\n",
        "    print(a)\n",
        "\n",
        "\n",
        "        \n",
        "    "
      ],
      "execution_count": null,
      "outputs": [
        {
          "output_type": "stream",
          "text": [
            "square of 4 minus 2 is\n",
            "14\n",
            "square of 6 minus 2 is\n",
            "34\n",
            "square of 2 minus 2 is\n",
            "2\n",
            "square of 4 minus 2 is\n",
            "14\n"
          ],
          "name": "stdout"
        }
      ]
    },
    {
      "cell_type": "code",
      "metadata": {
        "id": "Zz3lu0331glQ",
        "colab_type": "code",
        "colab": {
          "base_uri": "https://localhost:8080/",
          "height": 67
        },
        "outputId": "420649a2-c1e6-4951-c2d9-4ac1ea083d0f"
      },
      "source": [
        "#Question 5: Consider a list of 10 elements. Print all the elements in the list which are greater than 7 when that number is divided 2.\n",
        "\n",
        "list=[1,3,55,2,7,8,98,6,5,42]\n",
        "for i in list:\n",
        "  if i%2==0:\n",
        "    if i>7:\n",
        "      print(i)\n",
        "  \n",
        "    \n",
        "\n",
        " \n",
        "\n",
        "\n"
      ],
      "execution_count": null,
      "outputs": [
        {
          "output_type": "stream",
          "text": [
            "8\n",
            "98\n",
            "42\n"
          ],
          "name": "stdout"
        }
      ]
    }
  ]
}