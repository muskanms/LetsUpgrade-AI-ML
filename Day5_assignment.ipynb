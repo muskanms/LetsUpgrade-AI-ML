{
  "nbformat": 4,
  "nbformat_minor": 0,
  "metadata": {
    "colab": {
      "name": "Day5 assignment.ipynb",
      "provenance": [],
      "authorship_tag": "ABX9TyMiALkasJBMscq38kwXLbMj",
      "include_colab_link": true
    },
    "kernelspec": {
      "name": "python3",
      "display_name": "Python 3"
    }
  },
  "cells": [
    {
      "cell_type": "markdown",
      "metadata": {
        "id": "view-in-github",
        "colab_type": "text"
      },
      "source": [
        "<a href=\"https://colab.research.google.com/github/muskanms/LetsUpgrade-AI-ML-DL/blob/master/Day5_assignment.ipynb\" target=\"_parent\"><img src=\"https://colab.research.google.com/assets/colab-badge.svg\" alt=\"Open In Colab\"/></a>"
      ]
    },
    {
      "cell_type": "code",
      "metadata": {
        "id": "xhMRl2W3ASh4",
        "colab_type": "code",
        "colab": {
          "base_uri": "https://localhost:8080/",
          "height": 150
        },
        "outputId": "30be8367-1441-40ff-c6d1-d3edb8d387f1"
      },
      "source": [
        "#Question 1 : Write a Python program to find the first 20 non-even prime natural number.\n",
        "\n",
        "for i in range(1,21):\n",
        "  for j in range(2,i): \n",
        "      if i%j==0:\n",
        "          break\n",
        "  else:\n",
        "    if i==2:\n",
        "      continue\n",
        "    else:\n",
        "      print(i)\n",
        "\n",
        "\n",
        " \n",
        "\n",
        "\n",
        "  "
      ],
      "execution_count": null,
      "outputs": [
        {
          "output_type": "stream",
          "text": [
            "1\n",
            "3\n",
            "5\n",
            "7\n",
            "11\n",
            "13\n",
            "17\n",
            "19\n"
          ],
          "name": "stdout"
        }
      ]
    },
    {
      "cell_type": "code",
      "metadata": {
        "id": "lGvY6CGeDMFJ",
        "colab_type": "code",
        "colab": {
          "base_uri": "https://localhost:8080/",
          "height": 268
        },
        "outputId": "7258d5d4-3c37-4c2c-a2ef-b80de185dd2f"
      },
      "source": [
        "#Question 2 :Write a Python program to implement 15 functions of string.\n",
        "\n",
        "str=\"practice makes a man perfect\"\n",
        "a=str.index(\"m\")   #fucn 1\n",
        "print(\"a= \",a)\n",
        "b=str.count(\"p\")   #func 2\n",
        "print(\"b= \",b)\n",
        "c=str.find(\"c\")    #func 3\n",
        "print(\"c=\" ,c)\n",
        "d=str.upper()      #func 4\n",
        "print(\"d= \",d)\n",
        "e=str.lower()      #fucn 5\n",
        "print(\"e=\" ,e)  \n",
        "f=str.split()      #func 6\n",
        "print(\"f= \",f) \n",
        "g=str.swapcase()   #func 7\n",
        "print(\"g= \",g)\n",
        "h=str.rfind(\"m\")   #func 8\n",
        "print(\"h= \",h)\n",
        "i=str.title()      #func 9\n",
        "print(\"i= \",i)\n",
        "j=str.splitlines()  #func 10\n",
        "print(\"j=\",j)\n",
        "k=str.rpartition(\"makes\")   #func 11\n",
        "print(\"k=\",k)\n",
        "l=str.startswith(\"practice\")   #func 12\n",
        "print(\"l=\",l)\n",
        "m=str.rindex(\"n\")    #func 13\n",
        "print(\"m=\",m)\n",
        "n=str.rjust(50,\"0\")   #func 14\n",
        "print(\"n=\",n)\n",
        "str1=\"hello all\"\n",
        "str2=\" very good afternoon sir\"\n",
        "o=str2.replace(\"afternoon\",\"morning\")   #func 15\n",
        "print(\"o=\",o)\n",
        "\n"
      ],
      "execution_count": null,
      "outputs": [
        {
          "output_type": "stream",
          "text": [
            "a=  9\n",
            "b=  2\n",
            "c= 3\n",
            "d=  PRACTICE MAKES A MAN PERFECT\n",
            "e= practice makes a man perfect\n",
            "f=  ['practice', 'makes', 'a', 'man', 'perfect']\n",
            "g=  PRACTICE MAKES A MAN PERFECT\n",
            "h=  17\n",
            "i=  Practice Makes A Man Perfect\n",
            "j= ['practice makes a man perfect']\n",
            "k= ('practice ', 'makes', ' a man perfect')\n",
            "l= True\n",
            "m= 19\n",
            "n= 0000000000000000000000practice makes a man perfect\n",
            "o=  very good morning sir\n"
          ],
          "name": "stdout"
        }
      ]
    },
    {
      "cell_type": "code",
      "metadata": {
        "id": "1Phqs_sHiSxM",
        "colab_type": "code",
        "colab": {
          "base_uri": "https://localhost:8080/",
          "height": 67
        },
        "outputId": "e305b4e6-28fe-4846-8a78-390207c450b7"
      },
      "source": [
        "#Question 3: Write a Python program to check if the given string is a Palindrome or Anagram or None of them. Display\n",
        "#the message accordingly to the user.\n",
        "\n",
        "str=input(\"enter the string= \")\n",
        "str1=input(\"enter another string= \")\n",
        "a=\"\".join(sorted(str))\n",
        "b=\"\".join(sorted(str1))\n",
        "\n",
        "if str[::-1]==str1:\n",
        "  print(\"given strings are palindrome\")\n",
        "   \n",
        "elif a==b:\n",
        "  print(\"given strings are anagram\")\n",
        "else:\n",
        "  print(\"none of them\")\n",
        "\n"
      ],
      "execution_count": null,
      "outputs": [
        {
          "output_type": "stream",
          "text": [
            "enter the string= listen\n",
            "enter another string= silent\n",
            "given strings are anagram\n"
          ],
          "name": "stdout"
        }
      ]
    },
    {
      "cell_type": "code",
      "metadata": {
        "id": "10PhnOAsxErT",
        "colab_type": "code",
        "colab": {
          "base_uri": "https://localhost:8080/",
          "height": 33
        },
        "outputId": "9815329d-6f29-4d52-e3a8-b6405fd64930"
      },
      "source": [
        "#Question 4: Write a Python's user-defined function that removes all the additional characters from the string and\n",
        "#convert it finally to lower case using built-in lower(). eg: If the string is \"Dr. Darshan Ingle @AIML Trainer\",\n",
        "#then the output be \"drdarshaningleaimltrainer\".\n",
        "\n",
        "def str():\n",
        "  string=\"Dr. Darshan Ingle @AIML Trainer\"\n",
        "  for ch in [\"&\",\"@\",\".\",\" \"]:\n",
        "    if ch in string:\n",
        "      string=string.replace(ch,\"\")\n",
        "  print(string.lower())\n",
        "\n",
        "str()\n"
      ],
      "execution_count": 2,
      "outputs": [
        {
          "output_type": "stream",
          "text": [
            "drdarshaningleaimltrainer\n"
          ],
          "name": "stdout"
        }
      ]
    }
  ]
}