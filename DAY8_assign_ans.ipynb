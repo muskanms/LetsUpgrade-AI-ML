{
  "nbformat": 4,
  "nbformat_minor": 0,
  "metadata": {
    "colab": {
      "name": "DAY8 assign ans.ipynb",
      "provenance": [],
      "authorship_tag": "ABX9TyNCZp4Hc0gBNa6jUhhbubyh",
      "include_colab_link": true
    },
    "kernelspec": {
      "name": "python3",
      "display_name": "Python 3"
    }
  },
  "cells": [
    {
      "cell_type": "markdown",
      "metadata": {
        "id": "view-in-github",
        "colab_type": "text"
      },
      "source": [
        "<a href=\"https://colab.research.google.com/github/muskanms/LetsUpgrade-AI-ML-DL/blob/master/DAY8_assign_ans.ipynb\" target=\"_parent\"><img src=\"https://colab.research.google.com/assets/colab-badge.svg\" alt=\"Open In Colab\"/></a>"
      ]
    },
    {
      "cell_type": "markdown",
      "metadata": {
        "id": "MEux1TdFyo3p",
        "colab_type": "text"
      },
      "source": [
        "\n",
        "Question 1:\n",
        "Recreate “NB 21 map, filter, lambda.ipynb” to try different variations or perform different calculations from the ones that are in the NB\n"
      ]
    },
    {
      "cell_type": "markdown",
      "metadata": {
        "id": "Qr4qcH4uzC8b",
        "colab_type": "text"
      },
      "source": [
        "lambda function: The lambda operator or lambda function is a way to create small anonymous functions, i.e. functions without a name. These functions are throw-away functions, i.e. they are just needed where they have been created. Lambda functions are mainly used in combination with the functions filter(), map() and reduce(). The lambda feature was added to Python due to the demand from Lisp programmers.\n",
        "            \n",
        "            lambda arguments : expression\n",
        "\n",
        "\n",
        "\n"
      ]
    },
    {
      "cell_type": "code",
      "metadata": {
        "id": "tp1DzCwtzkQs",
        "colab_type": "code",
        "colab": {
          "base_uri": "https://localhost:8080/",
          "height": 33
        },
        "outputId": "5640ef9b-8406-4d95-f282-fc01fd521815"
      },
      "source": [
        "f = lambda x, y : x + y\n",
        "f(1,1)"
      ],
      "execution_count": 1,
      "outputs": [
        {
          "output_type": "execute_result",
          "data": {
            "text/plain": [
              "2"
            ]
          },
          "metadata": {
            "tags": []
          },
          "execution_count": 1
        }
      ]
    },
    {
      "cell_type": "code",
      "metadata": {
        "id": "FFJSK_-V0T9J",
        "colab_type": "code",
        "colab": {
          "base_uri": "https://localhost:8080/",
          "height": 33
        },
        "outputId": "b6630a8b-0997-4cf6-860e-d1cc3608f37a"
      },
      "source": [
        "def myfunc(n):\n",
        "  return lambda a : a * n\n",
        "\n",
        "mydoubler = myfunc(2)\n",
        "\n",
        "print(mydoubler(11))"
      ],
      "execution_count": 2,
      "outputs": [
        {
          "output_type": "stream",
          "text": [
            "22\n"
          ],
          "name": "stdout"
        }
      ]
    },
    {
      "cell_type": "code",
      "metadata": {
        "id": "NQjjHWmz0UAJ",
        "colab_type": "code",
        "colab": {
          "base_uri": "https://localhost:8080/",
          "height": 50
        },
        "outputId": "b1873044-b619-451f-c8c1-7b7cd5f4a631"
      },
      "source": [
        "def myfunc(n):\n",
        "  return lambda a : a * n\n",
        "\n",
        "mydoubler = myfunc(2)\n",
        "mytripler = myfunc(3)\n",
        "\n",
        "print(mydoubler(11))\n",
        "print(mytripler(11))"
      ],
      "execution_count": 3,
      "outputs": [
        {
          "output_type": "stream",
          "text": [
            "22\n",
            "33\n"
          ],
          "name": "stdout"
        }
      ]
    },
    {
      "cell_type": "markdown",
      "metadata": {
        "id": "FgCiqkFe0mow",
        "colab_type": "text"
      },
      "source": [
        "map() function:- map applies a function to all the items in an input_list.\n",
        "                                   \n",
        "                map(function_to_apply,list_of_inputs)"
      ]
    },
    {
      "cell_type": "code",
      "metadata": {
        "id": "DuY3ux_30oWf",
        "colab_type": "code",
        "colab": {
          "base_uri": "https://localhost:8080/",
          "height": 33
        },
        "outputId": "d846eb5d-a086-44f6-9b00-e549e4cb7750"
      },
      "source": [
        "li = [5, 7, 22, 97, 54, 62, 77, 23, 73, 61] \n",
        "final_list = list(map(lambda x: x*2 , li)) \n",
        "print(final_list) "
      ],
      "execution_count": 4,
      "outputs": [
        {
          "output_type": "stream",
          "text": [
            "[10, 14, 44, 194, 108, 124, 154, 46, 146, 122]\n"
          ],
          "name": "stdout"
        }
      ]
    },
    {
      "cell_type": "code",
      "metadata": {
        "id": "hzrwvm_k1G4K",
        "colab_type": "code",
        "colab": {
          "base_uri": "https://localhost:8080/",
          "height": 33
        },
        "outputId": "ed646b02-538b-4593-d5e7-7fd9ad7ec400"
      },
      "source": [
        "# Program to double each item in a list using map()\n",
        "\n",
        "my_list = [1, 5, 4, 6, 8, 11, 3, 12]\n",
        "\n",
        "new_list = list(map(lambda x: x * 2 , my_list))\n",
        "\n",
        "print(new_list)"
      ],
      "execution_count": 5,
      "outputs": [
        {
          "output_type": "stream",
          "text": [
            "[2, 10, 8, 12, 16, 22, 6, 24]\n"
          ],
          "name": "stdout"
        }
      ]
    },
    {
      "cell_type": "code",
      "metadata": {
        "id": "JAatMtYA1JS3",
        "colab_type": "code",
        "colab": {
          "base_uri": "https://localhost:8080/",
          "height": 33
        },
        "outputId": "e22fac37-e979-4b1b-8348-29d2d3da461d"
      },
      "source": [
        "# Add two lists using map and lambda \n",
        "  \n",
        "numbers1 = [1, 2, 3] \n",
        "numbers2 = [4, 5, 6] \n",
        "  \n",
        "result = map(lambda x, y: x + y, numbers1, numbers2) \n",
        "print(list(result))"
      ],
      "execution_count": 6,
      "outputs": [
        {
          "output_type": "stream",
          "text": [
            "[5, 7, 9]\n"
          ],
          "name": "stdout"
        }
      ]
    },
    {
      "cell_type": "markdown",
      "metadata": {
        "id": "kOPr7Mvv1R5f",
        "colab_type": "text"
      },
      "source": [
        "filter:A filter() function is kind of similar to map(). However, map() execute a specific function on an iterable and returns every element from that iterable. Whereas filter() returns just the elements for which a function returns True. Let’s see this in an example where we have a list of number 1-20, and we want to return only the odd numbers. We’ll start off by creating a list of 1-20 using list comprehension\n"
      ]
    },
    {
      "cell_type": "code",
      "metadata": {
        "id": "2gHz8mwR1Tvh",
        "colab_type": "code",
        "colab": {
          "base_uri": "https://localhost:8080/",
          "height": 33
        },
        "outputId": "0468191f-a8db-4a81-8d8e-179faa215467"
      },
      "source": [
        "#1\n",
        "def is_odd(x):\n",
        "\treturn x % 2 != 0\n",
        "\n",
        "is_odd(2)"
      ],
      "execution_count": 7,
      "outputs": [
        {
          "output_type": "execute_result",
          "data": {
            "text/plain": [
              "False"
            ]
          },
          "metadata": {
            "tags": []
          },
          "execution_count": 7
        }
      ]
    },
    {
      "cell_type": "code",
      "metadata": {
        "id": "hGz97qud1ZQP",
        "colab_type": "code",
        "colab": {
          "base_uri": "https://localhost:8080/",
          "height": 33
        },
        "outputId": "092886e5-e810-4e8a-d156-0f2c92109da8"
      },
      "source": [
        "a = map(is_odd, li)\n",
        "list(a)"
      ],
      "execution_count": 8,
      "outputs": [
        {
          "output_type": "execute_result",
          "data": {
            "text/plain": [
              "[True, True, False, True, False, False, True, True, True, True]"
            ]
          },
          "metadata": {
            "tags": []
          },
          "execution_count": 8
        }
      ]
    },
    {
      "cell_type": "code",
      "metadata": {
        "id": "p_BgoySw1dm-",
        "colab_type": "code",
        "colab": {
          "base_uri": "https://localhost:8080/",
          "height": 33
        },
        "outputId": "9b4f4304-a567-45c5-a27c-5b6afacf221a"
      },
      "source": [
        "a_2 = filter(is_odd,li)\n",
        "list(a_2)"
      ],
      "execution_count": 9,
      "outputs": [
        {
          "output_type": "execute_result",
          "data": {
            "text/plain": [
              "[5, 7, 97, 77, 23, 73, 61]"
            ]
          },
          "metadata": {
            "tags": []
          },
          "execution_count": 9
        }
      ]
    },
    {
      "cell_type": "code",
      "metadata": {
        "id": "gPBgGrIp1hms",
        "colab_type": "code",
        "colab": {
          "base_uri": "https://localhost:8080/",
          "height": 33
        },
        "outputId": "778e3ff6-da3d-4353-c76c-4e970703387a"
      },
      "source": [
        "#2\n",
        "\n",
        "sequences = [10,2,8,7,5,4,3,11,0, 1]\n",
        "filtered_result = filter (lambda x: x > 4, sequences) \n",
        "print(list(filtered_result))"
      ],
      "execution_count": 10,
      "outputs": [
        {
          "output_type": "stream",
          "text": [
            "[10, 8, 7, 5, 11]\n"
          ],
          "name": "stdout"
        }
      ]
    },
    {
      "cell_type": "code",
      "metadata": {
        "id": "tDtYMRvj1mL_",
        "colab_type": "code",
        "colab": {
          "base_uri": "https://localhost:8080/",
          "height": 33
        },
        "outputId": "7898c296-02f0-452a-fde8-095531062445"
      },
      "source": [
        "# 3 Program to filter out only the even items from a list\n",
        "my_list = [1, 5, 4, 6, 8, 11, 3, 12]\n",
        "\n",
        "new_list = list(filter(lambda x: (x%2 == 0) , my_list))\n",
        "\n",
        "print(new_list)"
      ],
      "execution_count": 11,
      "outputs": [
        {
          "output_type": "stream",
          "text": [
            "[4, 6, 8, 12]\n"
          ],
          "name": "stdout"
        }
      ]
    },
    {
      "cell_type": "markdown",
      "metadata": {
        "id": "hKEW8OwL1vhq",
        "colab_type": "text"
      },
      "source": [
        "Question 2\n",
        "Recreate your own Python NB for “Classes and Objects” from the pdf provided namely “Classes&Objects.pdf”\n",
        "classes and objects\n",
        "\n",
        "\n"
      ]
    },
    {
      "cell_type": "markdown",
      "metadata": {
        "id": "A_B8sfNe14LW",
        "colab_type": "text"
      },
      "source": [
        "classes:A class is a user-defined blueprint or prototype from which objects are created. Classes provide a means of bundling data and functionality together. Creating a new class creates a new type of object, allowing new instances of that type to be made. Each class instance can have attributes attached to it for maintaining its state. Class instances can also have methods (defined by its class) for modifying its state.\n",
        "\n",
        "     Class Definition Syntax:\n",
        "\n",
        "              class ClassName:\n",
        "\n",
        "                # Statement-1\n",
        "                .\n",
        "                .\n",
        "                .\n",
        "                # Statement-N"
      ]
    },
    {
      "cell_type": "code",
      "metadata": {
        "id": "DQKoyTAH1ycP",
        "colab_type": "code",
        "colab": {
          "base_uri": "https://localhost:8080/",
          "height": 67
        },
        "outputId": "bb4bc61c-b4e7-4bb0-c2a5-f3fe8a40b383"
      },
      "source": [
        "class Dog:  \n",
        "      \n",
        "    # A simple class \n",
        "    # attribute \n",
        "    attr1 = \"mamal\"\n",
        "    attr2 = \"dog\"\n",
        "  \n",
        "    # A sample method   \n",
        "    def fun(self):  \n",
        "        print(\"I'm a\", self.attr1) \n",
        "        print(\"I'm a\", self.attr2) \n",
        "  \n",
        "# Driver code \n",
        "# Object instantiation \n",
        "Rodger = Dog() \n",
        "  \n",
        "# Accessing class attributes \n",
        "# and method through objects \n",
        "print(Rodger.attr1) \n",
        "Rodger.fun() "
      ],
      "execution_count": 12,
      "outputs": [
        {
          "output_type": "stream",
          "text": [
            "mamal\n",
            "I'm a mamal\n",
            "I'm a dog\n"
          ],
          "name": "stdout"
        }
      ]
    },
    {
      "cell_type": "markdown",
      "metadata": {
        "id": "lC_QwjvZ3yGV",
        "colab_type": "text"
      },
      "source": [
        "objects:Objects can also contain methods. Methods in objects are functions that belong to the object.¶\n",
        "  \n",
        "  Let us create a method in the Person class:"
      ]
    },
    {
      "cell_type": "code",
      "metadata": {
        "id": "KNDCyN5o331h",
        "colab_type": "code",
        "colab": {
          "base_uri": "https://localhost:8080/",
          "height": 33
        },
        "outputId": "3e17c7a5-3be8-4d43-a639-a4f726208767"
      },
      "source": [
        "# A Sample class with init method  \n",
        "class Person:  \n",
        "    \n",
        "    # init method or constructor   \n",
        "    def __init__(self, name):  \n",
        "        self.name = name  \n",
        "    \n",
        "    # Sample Method   \n",
        "    def say_hi(self):  \n",
        "        print('Hello, my name is', self.name)  \n",
        "    \n",
        "p = Person('muskan')  \n",
        "p.say_hi() "
      ],
      "execution_count": 13,
      "outputs": [
        {
          "output_type": "stream",
          "text": [
            "Hello, my name is muskan\n"
          ],
          "name": "stdout"
        }
      ]
    },
    {
      "cell_type": "code",
      "metadata": {
        "id": "MKEfnrtC3zjF",
        "colab_type": "code",
        "colab": {
          "base_uri": "https://localhost:8080/",
          "height": 217
        },
        "outputId": "0c0f4c1b-e285-42da-e042-222a7d293f3b"
      },
      "source": [
        "# Class for Dog  \n",
        "class Dog:  \n",
        "    \n",
        "    # Class Variable  \n",
        "    animal = 'dog'             \n",
        "    \n",
        "    # The init method or constructor  \n",
        "    def __init__(self, breed, color):  \n",
        "      \n",
        "        # Instance Variable      \n",
        "        self.breed = breed \n",
        "        self.color = color         \n",
        "     \n",
        "# Objects of Dog class  \n",
        "Rodger = Dog(\"Pug\", \"brown\")  \n",
        "Buzo = Dog(\"Bulldog\", \"black\")  \n",
        "  \n",
        "print('Rodger details:')    \n",
        "print('Rodger is a', Rodger.animal)  \n",
        "print('Breed: ', Rodger.breed) \n",
        "print('Color: ', Rodger.color) \n",
        "  \n",
        "print('\\nBuzo details:')    \n",
        "print('Buzo is a', Buzo.animal)  \n",
        "print('Breed: ', Buzo.breed) \n",
        "print('Color: ', Buzo.color) \n",
        "  \n",
        "# Class variables can be accessed using class  \n",
        "# name also  \n",
        "print(\"\\nAccessing class variable using class name\") \n",
        "print(Dog.animal)    "
      ],
      "execution_count": 14,
      "outputs": [
        {
          "output_type": "stream",
          "text": [
            "Rodger details:\n",
            "Rodger is a dog\n",
            "Breed:  Pug\n",
            "Color:  brown\n",
            "\n",
            "Buzo details:\n",
            "Buzo is a dog\n",
            "Breed:  Bulldog\n",
            "Color:  black\n",
            "\n",
            "Accessing class variable using class name\n",
            "dog\n"
          ],
          "name": "stdout"
        }
      ]
    },
    {
      "cell_type": "code",
      "metadata": {
        "id": "Seeh5zs64Ikr",
        "colab_type": "code",
        "colab": {
          "base_uri": "https://localhost:8080/",
          "height": 33
        },
        "outputId": "51e69a2a-f37a-4955-9321-a7db8cf2f964"
      },
      "source": [
        "# Python program to show that we can create   \n",
        "# instance variables inside methods  \n",
        "     \n",
        "# Class for Dog  \n",
        "class Dog:  \n",
        "        \n",
        "    # Class Variable  \n",
        "    animal = 'dog'      \n",
        "        \n",
        "    # The init method or constructor  \n",
        "    def __init__(self, breed):  \n",
        "            \n",
        "        # Instance Variable  \n",
        "        self.breed = breed              \n",
        "    \n",
        "    # Adds an instance variable   \n",
        "    def setColor(self, color):  \n",
        "        self.color = color  \n",
        "        \n",
        "    # Retrieves instance variable      \n",
        "    def getColor(self):      \n",
        "        return self.color     \n",
        "    \n",
        "# Driver Code  \n",
        "Rodger = Dog(\"pug\")  \n",
        "Rodger.setColor(\"brown\")  \n",
        "print(Rodger.getColor())"
      ],
      "execution_count": 15,
      "outputs": [
        {
          "output_type": "stream",
          "text": [
            "brown\n"
          ],
          "name": "stdout"
        }
      ]
    }
  ]
}