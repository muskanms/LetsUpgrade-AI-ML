
{
 "cells": [
  {
   "cell_type": "markdown",
   "metadata": {},
   "source": [
    "Question 1:\n",
    "Write a program to copy the contents of one file to another using a for loop. (Don’t use built-in copy\n",
    "function)"
   ]
  },
  {
   "cell_type": "code",
   "execution_count": 13,
   "metadata": {},
   "outputs": [],
   "source": [
    "file=open(\"first.txt\",\"w+\")\n",
    "file2=open(\"second.txt\",\"w+\")"
   ]
  },
  {
   "cell_type": "code",
   "execution_count": 2,
   "metadata": {},
   "outputs": [
    {
     "name": "stdout",
     "output_type": "stream",
     "text": [
      "This is assignment7 \n"
     ]
    }
   ],
   "source": [
    "file=open(\"first.txt\",\"w\")\n",
    "file.write(\"This is assignment7 \")\n",
    "file.close()\n",
    "f=open(\"first.txt\",\"r\")\n",
    "print(f.read())"
   ]
  },
  {
   "cell_type": "code",
   "execution_count": 4,
   "metadata": {},
   "outputs": [
    {
     "name": "stdout",
     "output_type": "stream",
     "text": [
      "This is assignment7 \n"
     ]
    }
   ],
   "source": [
    "with open(\"first.txt\") as file:\n",
    "    with open(\"second.txt\",\"w\") as file2:\n",
    "        for line in file:\n",
    "            file2.write(line)\n",
    "        \n",
    "f2=open(\"second.txt\",\"r\")\n",
    "print(f2.read())"
   ]
  },
  {
   "cell_type": "markdown",
   "metadata": {},
   "source": [
    "Question 2:\n",
    "Write a Python program to find maximum and minimum values in the dictionary. Do not use built-in min\n",
    "and max functions."
   ]
  },
  {
   "cell_type": "code",
   "execution_count": 9,
   "metadata": {},
   "outputs": [
    {
     "name": "stdout",
     "output_type": "stream",
     "text": [
      "min= sun\n",
      "max= moom\n"
     ]
    }
   ],
   "source": [
    "dic={\"star\":[200,600,670],\"sun\":[50,20,40],\"moom\":[1000,8000,6000]}\n",
    "     \n",
    "def d(close=True):\n",
    "    closest=999999\n",
    "    farthest=0\n",
    "    for name in dic:\n",
    "        for index in range(3):\n",
    "            closefar=dic[name][index]\n",
    "            if close:\n",
    "                if closefar<closest:\n",
    "                    closefarname=name\n",
    "                    closest=closefar\n",
    "            else:\n",
    "                if closefar>farthest:\n",
    "                    closefarname=name\n",
    "                    farthest=closefar\n",
    "    return closefarname\n",
    "\n",
    "print(\"min=\",d(True))\n",
    "print(\"max=\",d(False))"
   ]
  },
  {
   "cell_type": "code",
   "execution_count": null,
   "metadata": {},
   "outputs": [],
   "source": []
  }
 ],
 "metadata": {
  "kernelspec": {
   "display_name": "Python 3",
   "language": "python",
   "name": "python3"
  },
  "language_info": {
   "codemirror_mode": {
    "name": "ipython",
    "version": 3
   },
   "file_extension": ".py",
   "mimetype": "text/x-python",
   "name": "python",
   "nbconvert_exporter": "python",
   "pygments_lexer": "ipython3",
   "version": "3.7.6"
  }
 },
 "nbformat": 4,
 "nbformat_minor": 4
}
