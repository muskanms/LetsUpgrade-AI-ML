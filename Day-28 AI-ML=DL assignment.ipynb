{
 "cells": [
  {
   "cell_type": "markdown",
   "metadata": {},
   "source": [
    "Question 1:\n",
    "Create one array of actual values and another array of predicted values. Compare the two sets\n",
    "with the confusion matrix.\n"
   ]
  },
  {
   "cell_type": "code",
   "execution_count": 5,
   "metadata": {},
   "outputs": [
    {
     "data": {
      "text/plain": [
       "array([[4, 1],\n",
       "       [2, 3]], dtype=int64)"
      ]
     },
     "execution_count": 5,
     "metadata": {},
     "output_type": "execute_result"
    }
   ],
   "source": [
    "from sklearn.metrics import confusion_matrix\n",
    "\n",
    "# Let's take some random values\n",
    "\n",
    "actual_values = [0,0,1,1,0,1,1,1,0,0]\n",
    "predicted_values = [0,1,0,1,0,1,1,0,0,0]\n",
    "\n",
    "confusion_matrix(actual_values, predicted_values)\n",
    "\n",
    "\n",
    "# By observing the below result we can seprate the values as\n",
    "# TP(True Positive) :- 4\n",
    "# TN(True Negative) :- 3\n",
    "# FP(False Positive) :- 1\n",
    "# FN(False Negative) :- 2"
   ]
  },
  {
   "cell_type": "markdown",
   "metadata": {},
   "source": [
    "Question 2:\n",
    "Find out the recall, precision, F1 score and confusion matrix with picture"
   ]
  },
  {
   "cell_type": "code",
   "execution_count": 7,
   "metadata": {},
   "outputs": [
    {
     "name": "stdout",
     "output_type": "stream",
     "text": [
      "recall :-  0.74\n",
      "precision :- 0.84\n",
      "F1 score :- 0.7868354430379746\n",
      "Confusion matrix :- [[42  8]\n",
      " [18 32]]\n"
     ]
    }
   ],
   "source": [
    "import numpy as np\n",
    "# Assigning all values in respective variables\n",
    "\n",
    "TP = 42\n",
    "TN = 32\n",
    "FP = 8\n",
    "FN = 18\n",
    "\n",
    "# Evaluate the recall by using the following formula\n",
    "\n",
    "recall = (TP + TN)/(TP+TN+FP+FN)\n",
    "\n",
    "print(\"recall :- \",recall)\n",
    "\n",
    "# Evaluate the precision by using the following formula\n",
    "\n",
    "precision = TP/(TP+FP)\n",
    "\n",
    "print(\"precision :-\",precision)\n",
    "\n",
    "# Evaluate the F1 score by using the above values\n",
    "\n",
    "f1_score = 2*(precision*recall)/(precision+recall)\n",
    "\n",
    "print(\"F1 score :-\",f1_score)\n",
    "\n",
    "# confusion matrix\n",
    "\n",
    "Confusion_matrix = np.array([[TP,FP],[FN,TN]])\n",
    "print(\"Confusion matrix :-\",Confusion_matrix)"
   ]
  }
 ],
 "metadata": {
  "kernelspec": {
   "display_name": "Python 3",
   "language": "python",
   "name": "python3"
  },
  "language_info": {
   "codemirror_mode": {
    "name": "ipython",
    "version": 3
   },
   "file_extension": ".py",
   "mimetype": "text/x-python",
   "name": "python",
   "nbconvert_exporter": "python",
   "pygments_lexer": "ipython3",
   "version": "3.8.5"
  }
 },
 "nbformat": 4,
 "nbformat_minor": 4
}
