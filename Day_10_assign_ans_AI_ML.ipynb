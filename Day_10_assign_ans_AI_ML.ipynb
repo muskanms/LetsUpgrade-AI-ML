{
  "nbformat": 4,
  "nbformat_minor": 0,
  "metadata": {
    "colab": {
      "name": "Day 10 assign ans_AI_ML.ipynb",
      "provenance": [],
      "authorship_tag": "ABX9TyMPARzhPzWscns6lnAAqlJT",
      "include_colab_link": true
    },
    "kernelspec": {
      "name": "python3",
      "display_name": "Python 3"
    }
  },
  "cells": [
    {
      "cell_type": "markdown",
      "metadata": {
        "id": "view-in-github",
        "colab_type": "text"
      },
      "source": [
        "<a href=\"https://colab.research.google.com/github/muskanms/LetsUpgrade-AI-ML-DL/blob/master/Day_10_assign_ans_AI_ML.ipynb\" target=\"_parent\"><img src=\"https://colab.research.google.com/assets/colab-badge.svg\" alt=\"Open In Colab\"/></a>"
      ]
    },
    {
      "cell_type": "code",
      "metadata": {
        "id": "HuNc6hi_kY3b",
        "colab_type": "code",
        "colab": {
          "base_uri": "https://localhost:8080/",
          "height": 134
        },
        "outputId": "9c8085d0-3e34-4070-b75e-30a1a645125e"
      },
      "source": [
        "#Question 1:\n",
        "#Create an element-wise comparison (greater, greater_equal, less and less_equal) of two given arrays\n",
        "\n",
        "\n",
        "import numpy as np\n",
        "a=np.array([6,7])\n",
        "b=np.array([2,4])\n",
        "print(\"original numbers\")\n",
        "print(a)\n",
        "print(b)\n",
        "print(\"comparison(greater): \",np.greater(a,b))\n",
        "print(\"comparison(greater-equal): \",np.greater_equal(a,b))\n",
        "print(\"comparison(less): \",np.less(a,b))\n",
        "print(\"comparison(less_equal): \",np.less_equal(a,b))"
      ],
      "execution_count": 14,
      "outputs": [
        {
          "output_type": "stream",
          "text": [
            "original numbers\n",
            "[6 7]\n",
            "[2 4]\n",
            "comparison(greater):  [ True  True]\n",
            "comparison(greater-equal):  [ True  True]\n",
            "comparison(less):  [False False]\n",
            "comparison(less_equal):  [False False]\n"
          ],
          "name": "stdout"
        }
      ]
    },
    {
      "cell_type": "code",
      "metadata": {
        "id": "aB0Lk-e8loCd",
        "colab_type": "code",
        "colab": {
          "base_uri": "https://localhost:8080/",
          "height": 67
        },
        "outputId": "b17f1cf7-0211-4ad2-aca3-93e13cabb6ae"
      },
      "source": [
        "#Question 2:\n",
        "#Write a NumPy program to create an array of 10 zeros,10 ones, 10 fives\n",
        "import numpy as np\n",
        "arr1=np.zeros(10)\n",
        "print(\"array of 10 zeros: \",arr1)\n",
        "arr2=np.ones(10)\n",
        "print(\"array of 10 ones: \",arr2)\n",
        "arr3=np.ones(10)*5\n",
        "print(\"array of 10 fives:: \",arr3)\n"
      ],
      "execution_count": 26,
      "outputs": [
        {
          "output_type": "stream",
          "text": [
            "array of 10 zeros:  [0. 0. 0. 0. 0. 0. 0. 0. 0. 0.]\n",
            "array of 10 ones:  [1. 1. 1. 1. 1. 1. 1. 1. 1. 1.]\n",
            "array of 10 fives::  [5. 5. 5. 5. 5. 5. 5. 5. 5. 5.]\n"
          ],
          "name": "stdout"
        }
      ]
    },
    {
      "cell_type": "code",
      "metadata": {
        "id": "asuCFC9xv25V",
        "colab_type": "code",
        "colab": {
          "base_uri": "https://localhost:8080/",
          "height": 100
        },
        "outputId": "c017f03e-a17a-4269-b5fd-c3653983fb3d"
      },
      "source": [
        "#Question 3:\n",
        "#Write a NumPy program to compute sum of all elements, sum of each column and sum of each row of a\n",
        "#given array\n",
        "\n",
        "\n",
        "import numpy as np\n",
        "a=np.array([[5,1],[2,4]])\n",
        "print(\"original array\",a)\n",
        "print(\"sum of all the elements\",np.sum(a))\n",
        "print(\"sum of each column\",np.sum(a,axis=1))\n",
        "print(\"sum of each column\",np.sum(a,axis=0))"
      ],
      "execution_count": 31,
      "outputs": [
        {
          "output_type": "stream",
          "text": [
            "original array [[5 1]\n",
            " [2 4]]\n",
            "sum of all the elements 12\n",
            "sum of each column [6 6]\n",
            "sum of each column [7 5]\n"
          ],
          "name": "stdout"
        }
      ]
    },
    {
      "cell_type": "code",
      "metadata": {
        "id": "Kelngur8x2jx",
        "colab_type": "code",
        "colab": {
          "base_uri": "https://localhost:8080/",
          "height": 84
        },
        "outputId": "55c6ee80-af2d-4a2f-e4c0-71d50543463b"
      },
      "source": [
        "#Question 4:\n",
        "#Write a NumPy program to add, subtract, multiply, divide arguments element-wise.\n",
        "import numpy as np\n",
        "print('ADD=',np.add(3,6))\n",
        "print(\"SUBTRACT= \",np.subtract(9,5))\n",
        "print(\"multiply=\",np.multiply(2,4))\n",
        "print(\"divide= \",np.divide(9,3))\n"
      ],
      "execution_count": 38,
      "outputs": [
        {
          "output_type": "stream",
          "text": [
            "ADD= 9\n",
            "SUBTRACT=  4\n",
            "multiply= 8\n",
            "divide=  3.0\n"
          ],
          "name": "stdout"
        }
      ]
    },
    {
      "cell_type": "code",
      "metadata": {
        "id": "wggubZyHy7XM",
        "colab_type": "code",
        "colab": {
          "base_uri": "https://localhost:8080/",
          "height": 67
        },
        "outputId": "1f119a3c-4e7f-4708-ed5c-180088f8c043"
      },
      "source": [
        "#Question 5:\n",
        "#Write a NumPy program to compute the trigonometric sine, cosine and tangent array of angles given in\n",
        "#degree.\n",
        "import numpy as np\n",
        "print(\"sine of array of angles given in degree= \",np.sin(np.array((0.,30.,45.,60.,90.))*np.pi/180))\n",
        "print(\"cosine of array of angles given in degree= \",np.cos(np.array((0.,30.,45.,90.))*np.pi/180))\n",
        "print(\"tangent of array of angles given in degree= \",np.tan(np.array((0.,30.,45.,90))*np.pi/180))"
      ],
      "execution_count": 47,
      "outputs": [
        {
          "output_type": "stream",
          "text": [
            "sine of array of angles given in degree=  [0.         0.5        0.70710678 0.8660254  1.        ]\n",
            "cosine of array of angles given in degree=  [1.00000000e+00 8.66025404e-01 7.07106781e-01 6.12323400e-17]\n",
            "tangent of array of angles given in degree=  [0.00000000e+00 5.77350269e-01 1.00000000e+00 1.63312394e+16]\n"
          ],
          "name": "stdout"
        }
      ]
    },
    {
      "cell_type": "code",
      "metadata": {
        "id": "uoqPgRsW1A-y",
        "colab_type": "code",
        "colab": {
          "base_uri": "https://localhost:8080/",
          "height": 117
        },
        "outputId": "bd22d4a4-213a-4ccc-b56e-7c386a1d26ae"
      },
      "source": [
        "#Question 6:\n",
        "#Write a Pandas program to create and display a DataFrame from a specified dictionary data which has the\n",
        "#index labels\n",
        "\n",
        "\n",
        "import pandas as pd\n",
        "import numpy as np\n",
        "data={\"name\":[\"sam\",\"harsh\",\"pranav\",\"devid\",\"john\"],\n",
        "      \"scores\":[\"30\",\"40\",\"50\",\"60\",\"70\"],\n",
        "      }\n",
        "labels=[\"a\",\"b\",\"c\",\"d\",\"e\"]\n",
        "df=pd.DataFrame(data,index=labels)\n",
        "print(df)\n"
      ],
      "execution_count": 50,
      "outputs": [
        {
          "output_type": "stream",
          "text": [
            "     name scores\n",
            "a     sam     30\n",
            "b   harsh     40\n",
            "c  pranav     50\n",
            "d   devid     60\n",
            "e    john     70\n"
          ],
          "name": "stdout"
        }
      ]
    },
    {
      "cell_type": "code",
      "metadata": {
        "id": "3Vt21wIv3U-q",
        "colab_type": "code",
        "colab": {
          "base_uri": "https://localhost:8080/",
          "height": 117
        },
        "outputId": "fa9a8a40-db6f-4e9f-ad6d-2bcc4acab7e2"
      },
      "source": [
        "#Question 7:\n",
        "#Write a Pandas program to select the 'name' and 'score' columns from the following DataFrame\n",
        "\n",
        "import pandas as pd\n",
        "import numpy as np\n",
        "data={\"name\":[\"sam\",\"harsh\",\"pranav\",\"devid\",\"john\"],\n",
        "      \"scores\":[\"30\",\"40\",\"50\",\"60\",\"70\"],\"backlogs\":[\"0\",\"1\",\"2\",\"3\",\"4\"]\n",
        "      }\n",
        "labels=[\"a\",\"b\",\"c\",\"d\",\"e\"]\n",
        "df=pd.DataFrame(data,index=labels)\n",
        "print(df[[\"name\",\"scores\"]])\n",
        "\n",
        "\n"
      ],
      "execution_count": 53,
      "outputs": [
        {
          "output_type": "stream",
          "text": [
            "     name scores\n",
            "a     sam     30\n",
            "b   harsh     40\n",
            "c  pranav     50\n",
            "d   devid     60\n",
            "e    john     70\n"
          ],
          "name": "stdout"
        }
      ]
    },
    {
      "cell_type": "code",
      "metadata": {
        "id": "sc8AaBUv4NDB",
        "colab_type": "code",
        "colab": {
          "base_uri": "https://localhost:8080/",
          "height": 669
        },
        "outputId": "0efcf0b4-1860-4120-85e4-79b00d5afcf6"
      },
      "source": [
        "#Question 8:\n",
        "#Write a Pandas program to join the two given dataframes along rows and assign all data.\n",
        "import pandas as pd\n",
        "stud_1 = pd.DataFrame({\n",
        "        'student_id': ['S1', 'S2', 'S3', 'S4', 'S5'],\n",
        "         'name': ['sam', 'david', 'emy', 'richard', 'elizabeth'], \n",
        "        'marks': [200, 210, 190, 222, 199]})\n",
        "\n",
        "stud_2= pd.DataFrame({\n",
        "        'student_id': ['S4', 'S5', 'S6', 'S7', 'S8'],\n",
        "        'name': [' Fisher', 'faiz', 'joe', ' William', 'Madeeha'], \n",
        "        'marks': [201, 200, 198, 219, 201]})\n",
        "\n",
        "exam_data = pd.DataFrame({\n",
        "        'student_id': ['S1', 'S2', 'S3', 'S4', 'S5', 'S7', 'S8', 'S9', 'S10', 'S11', 'S12', 'S13'],\n",
        "       'exam_id': [23, 45, 12, 67, 21, 55, 33, 14, 56, 83, 88, 12]})\n",
        "\n",
        "print(\"Original DataFrames:\")\n",
        "print(stud_1)\n",
        "print(stud_2)\n",
        "print(exam_data)\n",
        "\n",
        "print(\"\\nJoin first two said dataframes along rows:\")\n",
        "result_data = pd.concat([stud_1, stud_2])\n",
        "print(result_data)"
      ],
      "execution_count": 54,
      "outputs": [
        {
          "output_type": "stream",
          "text": [
            "Original DataFrames:\n",
            "  student_id       name  marks\n",
            "0         S1        sam    200\n",
            "1         S2      david    210\n",
            "2         S3        emy    190\n",
            "3         S4    richard    222\n",
            "4         S5  elizabeth    199\n",
            "  student_id      name  marks\n",
            "0         S4    Fisher    201\n",
            "1         S5      faiz    200\n",
            "2         S6       joe    198\n",
            "3         S7   William    219\n",
            "4         S8   Madeeha    201\n",
            "   student_id  exam_id\n",
            "0          S1       23\n",
            "1          S2       45\n",
            "2          S3       12\n",
            "3          S4       67\n",
            "4          S5       21\n",
            "5          S7       55\n",
            "6          S8       33\n",
            "7          S9       14\n",
            "8         S10       56\n",
            "9         S11       83\n",
            "10        S12       88\n",
            "11        S13       12\n",
            "\n",
            "Join first two said dataframes along rows:\n",
            "  student_id       name  marks\n",
            "0         S1        sam    200\n",
            "1         S2      david    210\n",
            "2         S3        emy    190\n",
            "3         S4    richard    222\n",
            "4         S5  elizabeth    199\n",
            "0         S4     Fisher    201\n",
            "1         S5       faiz    200\n",
            "2         S6        joe    198\n",
            "3         S7    William    219\n",
            "4         S8    Madeeha    201\n"
          ],
          "name": "stdout"
        }
      ]
    },
    {
      "cell_type": "code",
      "metadata": {
        "id": "BeqeoJEV6rvg",
        "colab_type": "code",
        "colab": {
          "base_uri": "https://localhost:8080/",
          "height": 217
        },
        "outputId": "fec5d6a1-082f-40b0-e59e-9de04f44c647"
      },
      "source": [
        "#Question 9:\n",
        "#Write a Pandas program to detect missing values of a given DataFrame. Display True or False\n",
        "import pandas as pd\n",
        "import numpy as np\n",
        "data={\"name\":[\"sam\",\"harsh\",\"pranav\",\"devid\",\"john\"],\n",
        "      \"scores\":[\"30\",np.nan,\"50\",\"60\",\"70\"],\"backlogs\":[np.nan,\"1\",\"2\",\"3\",\"4\"]\n",
        "      }\n",
        "labels=[\"a\",\"b\",\"c\",\"d\",\"e\"]\n",
        "df=pd.DataFrame(data,index=labels)\n",
        "print(df[[\"name\",\"scores\"]])\n",
        "print(df.isna())\n",
        "\n"
      ],
      "execution_count": 56,
      "outputs": [
        {
          "output_type": "stream",
          "text": [
            "     name scores\n",
            "a     sam     30\n",
            "b   harsh    NaN\n",
            "c  pranav     50\n",
            "d   devid     60\n",
            "e    john     70\n",
            "    name  scores  backlogs\n",
            "a  False   False      True\n",
            "b  False    True     False\n",
            "c  False   False     False\n",
            "d  False   False     False\n",
            "e  False   False     False\n"
          ],
          "name": "stdout"
        }
      ]
    },
    {
      "cell_type": "code",
      "metadata": {
        "id": "5Ne2EgIl8qdE",
        "colab_type": "code",
        "colab": {
          "base_uri": "https://localhost:8080/",
          "height": 100
        },
        "outputId": "6f85249f-7650-45ac-c409-86e3a81ee084"
      },
      "source": [
        "#Question 10:\n",
        "#Write a Pandas program to create and display a one-dimensional array-like object containing an array of\n",
        "#data.\n",
        "import pandas as pd\n",
        "arr=pd.Series([6,7,8,2])\n",
        "print(arr)"
      ],
      "execution_count": 57,
      "outputs": [
        {
          "output_type": "stream",
          "text": [
            "0    6\n",
            "1    7\n",
            "2    8\n",
            "3    2\n",
            "dtype: int64\n"
          ],
          "name": "stdout"
        }
      ]
    }
  ]
}