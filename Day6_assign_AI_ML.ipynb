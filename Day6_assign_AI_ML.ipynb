{
  "nbformat": 4,
  "nbformat_minor": 0,
  "metadata": {
    "colab": {
      "name": "Day6 assign AI_ML.ipynb",
      "provenance": [],
      "authorship_tag": "ABX9TyPFhymXmHmCEdNvVfN8foKe",
      "include_colab_link": true
    },
    "kernelspec": {
      "name": "python3",
      "display_name": "Python 3"
    }
  },
  "cells": [
    {
      "cell_type": "markdown",
      "metadata": {
        "id": "view-in-github",
        "colab_type": "text"
      },
      "source": [
        "<a href=\"https://colab.research.google.com/github/muskanms/LetsUpgrade-AI-ML-DL/blob/master/Day6_assign_AI_ML.ipynb\" target=\"_parent\"><img src=\"https://colab.research.google.com/assets/colab-badge.svg\" alt=\"Open In Colab\"/></a>"
      ]
    },
    {
      "cell_type": "code",
      "metadata": {
        "id": "jy-pYOAuYEeZ",
        "colab_type": "code",
        "colab": {
          "base_uri": "https://localhost:8080/",
          "height": 33
        },
        "outputId": "4c5ce8b2-6963-4939-c9e3-5c9cd0c94788"
      },
      "source": [
        "#Question 1 : Assuming that we have some email addresses in the \"username@companyname.com\" format, please \n",
        "#write a program to print the company name of a given email address. Both user names and company names are composed of letters only.\n",
        "#Input Format:\n",
        "#The first line of the input contains an email address.\n",
        "#Output Format:\n",
        "#Print the company name in a single line.\n",
        "#Example;\n",
        "#Input:\n",
        "#john@google.com\n",
        "#Output:\n",
        "#google.\n",
        "\n",
        "def company_name(email):\n",
        "  a=email.split(\"@\")[-1].split(\".\")[0]\n",
        "  print(a)\n",
        "company_name('john@google.com')\n",
        "\n"
      ],
      "execution_count": null,
      "outputs": [
        {
          "output_type": "stream",
          "text": [
            "google\n"
          ],
          "name": "stdout"
        }
      ]
    },
    {
      "cell_type": "code",
      "metadata": {
        "id": "ywvB2Peq38G6",
        "colab_type": "code",
        "colab": {
          "base_uri": "https://localhost:8080/",
          "height": 50
        },
        "outputId": "e1260b55-a8b1-4222-f9f1-555b8a2f39f0"
      },
      "source": [
        "#Question 2 : Write a program that accepts a comma-separated sequence of words as input and prints the words in a \n",
        "#comma-separated sequence after sorting them alphabetically.\n",
        "#Input Format:\n",
        "#The first line of input contains words separated by the comma.\n",
        "#Output Format:\n",
        "#Print the sorted words separated by the comma.\n",
        "#Example:\n",
        "#Input:\n",
        "#without,hello,bag,world\n",
        "#Output:\n",
        "#bag,hello,without,world\n",
        "\n",
        "items=input(\"enter\")\n",
        "words=[word for word in items.split(\".\")]\n",
        "print(\",\".join(sorted(list(set(words)))))\n",
        "\n",
        "\n",
        "\n",
        "\n",
        "\n",
        "\n",
        "\n",
        "\n",
        "\n"
      ],
      "execution_count": 2,
      "outputs": [
        {
          "output_type": "stream",
          "text": [
            "entergood,hello,world,jam\n",
            "good,hello,world,jam\n"
          ],
          "name": "stdout"
        }
      ]
    },
    {
      "cell_type": "code",
      "metadata": {
        "id": "7EcjZwyDRUUQ",
        "colab_type": "code",
        "colab": {}
      },
      "source": [
        "#Question 3: Create your own Jupyter Notebook for Sets. "
      ],
      "execution_count": null,
      "outputs": []
    },
    {
      "cell_type": "markdown",
      "metadata": {
        "id": "i5QsLDPhSNpw",
        "colab_type": "text"
      },
      "source": [
        "**SETS**"
      ]
    },
    {
      "cell_type": "markdown",
      "metadata": {
        "id": "BZYwG8DuSVr0",
        "colab_type": "text"
      },
      "source": [
        "Set is the collection which will be unordered that means whenever we assign values and print those values, those values will not be in same order as assigned. and set isuniindexed. sets are represented by curly braces."
      ]
    },
    {
      "cell_type": "code",
      "metadata": {
        "id": "ALDsw7DrTEFb",
        "colab_type": "code",
        "colab": {
          "base_uri": "https://localhost:8080/",
          "height": 33
        },
        "outputId": "f515d14e-8a8c-4948-af80-fde3f2dedde1"
      },
      "source": [
        "#lets create a set\n",
        "set_1={\"sun\",\"moon\",\"stars\"}\n",
        "print(set_1)"
      ],
      "execution_count": null,
      "outputs": [
        {
          "output_type": "stream",
          "text": [
            "{'sun', 'stars', 'moon'}\n"
          ],
          "name": "stdout"
        }
      ]
    },
    {
      "cell_type": "code",
      "metadata": {
        "id": "fiJwlNouTrh6",
        "colab_type": "code",
        "colab": {
          "base_uri": "https://localhost:8080/",
          "height": 84
        },
        "outputId": "950c66d1-73d2-4a7d-cdd0-89d17b4b4d07"
      },
      "source": [
        "#or accessing items\n",
        "#for loop used to print values one after the other value\n",
        "\n",
        "set_2={\"home\",\"market\",\"school\",\"building\"}\n",
        "for i in set_2:\n",
        "  print(i)"
      ],
      "execution_count": null,
      "outputs": [
        {
          "output_type": "stream",
          "text": [
            "school\n",
            "market\n",
            "building\n",
            "home\n"
          ],
          "name": "stdout"
        }
      ]
    },
    {
      "cell_type": "code",
      "metadata": {
        "id": "u2KnljX9U5qa",
        "colab_type": "code",
        "colab": {
          "base_uri": "https://localhost:8080/",
          "height": 33
        },
        "outputId": "320a6f2a-99ae-4d75-e112-cd4974c9de84"
      },
      "source": [
        "#for finding items in set\n",
        "\n",
        "set_3={\"mom\",\"dad\",\"brother\"}\n",
        "if \"mom\" in set_3:\n",
        "  print(\"present\")\n",
        "else:\n",
        "  print(\"not present\")"
      ],
      "execution_count": null,
      "outputs": [
        {
          "output_type": "stream",
          "text": [
            "present\n"
          ],
          "name": "stdout"
        }
      ]
    },
    {
      "cell_type": "code",
      "metadata": {
        "id": "43YKgwNEWomS",
        "colab_type": "code",
        "colab": {
          "base_uri": "https://localhost:8080/",
          "height": 50
        },
        "outputId": "36b84d9e-7727-4aef-f3fd-07992b115c5a"
      },
      "source": [
        "#note:change of items is not possible. But we can add or update the set\n",
        "\n",
        "set_3={\"mom\",\"dad\",\"brother\"}\n",
        "set_3.add(\"sister\")\n",
        "print(\"a= \",set_3)\n",
        "\n",
        "set_3.update([\"cousin\",\"aunty\"])\n",
        "print(\"b= \",set_3)\n",
        "\n"
      ],
      "execution_count": null,
      "outputs": [
        {
          "output_type": "stream",
          "text": [
            "a=  {'mom', 'brother', 'sister', 'dad'}\n",
            "b=  {'aunty', 'dad', 'sister', 'brother', 'cousin', 'mom'}\n"
          ],
          "name": "stdout"
        }
      ]
    },
    {
      "cell_type": "code",
      "metadata": {
        "id": "uDafCaaiYCyr",
        "colab_type": "code",
        "colab": {
          "base_uri": "https://localhost:8080/",
          "height": 33
        },
        "outputId": "6a201d9e-a227-4d5d-ef38-a27f22d17c7c"
      },
      "source": [
        "#to find the length or the items in set, we use len() method\n",
        "set_3={\"mom\",\"dad\",\"brother\"}\n",
        "c=len(set_3)\n",
        "print(c)"
      ],
      "execution_count": null,
      "outputs": [
        {
          "output_type": "stream",
          "text": [
            "3\n"
          ],
          "name": "stdout"
        }
      ]
    },
    {
      "cell_type": "code",
      "metadata": {
        "id": "TQedSPDZZIPk",
        "colab_type": "code",
        "colab": {
          "base_uri": "https://localhost:8080/",
          "height": 50
        },
        "outputId": "971d64da-f357-41ae-ed6f-9ae385725556"
      },
      "source": [
        "#for removing or diccarding the items we use, remove() and discard() methods\n",
        "set_3={\"mom\",\"dad\",\"brother\",\"spoon\",\"brush\"}\n",
        "d=set_3.remove(\"spoon\")\n",
        "print(set_3)\n",
        "\n",
        "e=set_3.discard(\"brush\")\n",
        "print(set_3)\n"
      ],
      "execution_count": null,
      "outputs": [
        {
          "output_type": "stream",
          "text": [
            "{'dad', 'brother', 'brush', 'mom'}\n",
            "{'dad', 'brother', 'mom'}\n"
          ],
          "name": "stdout"
        }
      ]
    },
    {
      "cell_type": "code",
      "metadata": {
        "id": "rRzWG-5SaJ-V",
        "colab_type": "code",
        "colab": {
          "base_uri": "https://localhost:8080/",
          "height": 33
        },
        "outputId": "2ba9f213-961d-4ce0-e311-708032f44de9"
      },
      "source": [
        "#to remove last item we use pop() method\n",
        "set_3={\"table\",\"chair\",\"spoon\",\"brush\"}\n",
        "set_3.pop()\n",
        "print(set_3)\n"
      ],
      "execution_count": null,
      "outputs": [
        {
          "output_type": "stream",
          "text": [
            "{'brush', 'table', 'chair'}\n"
          ],
          "name": "stdout"
        }
      ]
    },
    {
      "cell_type": "code",
      "metadata": {
        "id": "ryJmQbQCaqOk",
        "colab_type": "code",
        "colab": {
          "base_uri": "https://localhost:8080/",
          "height": 33
        },
        "outputId": "347b1ea0-fa4e-4654-db86-1ead986013fa"
      },
      "source": [
        "#clear() method empties the set\n",
        "set_3={\"mom\",\"dad\",\"brother\",\"spoon\",\"brush\"}\n",
        "set_3.clear()\n",
        "print(set_3)\n",
        "\n",
        "\n",
        "\n",
        "\n",
        "#del keyword deletes the set completely\n",
        "set_3={\"mom\",\"dad\",\"brother\",\"spoon\",\"brush\"}\n",
        "del set_3\n",
        "#print(set_3)   # this has raised an error because its has been deleted and no longer present into memory"
      ],
      "execution_count": null,
      "outputs": [
        {
          "output_type": "stream",
          "text": [
            "set()\n"
          ],
          "name": "stdout"
        }
      ]
    },
    {
      "cell_type": "code",
      "metadata": {
        "id": "ronrNzGrbbG-",
        "colab_type": "code",
        "colab": {
          "base_uri": "https://localhost:8080/",
          "height": 33
        },
        "outputId": "f55a0bb1-c566-47eb-8ce3-2d1ef4bdedde"
      },
      "source": [
        "#for joining two sets we use union() or update()\n",
        "#union()\n",
        "set_3={\"star\",\"spoon\",\"brush\"}\n",
        "set_4={\"table\",\"chair\",\"brush\"}\n",
        "set_3.union(set_4) #you can see in output \"brush\" is included only once because union() excludes repeated items\n",
        "\n"
      ],
      "execution_count": null,
      "outputs": [
        {
          "output_type": "execute_result",
          "data": {
            "text/plain": [
              "{'brush', 'chair', 'spoon', 'star', 'table'}"
            ]
          },
          "metadata": {
            "tags": []
          },
          "execution_count": 31
        }
      ]
    },
    {
      "cell_type": "code",
      "metadata": {
        "id": "1WdCRPTgcpq7",
        "colab_type": "code",
        "colab": {
          "base_uri": "https://localhost:8080/",
          "height": 33
        },
        "outputId": "eb3e8786-5d7a-44e5-f015-08971290b710"
      },
      "source": [
        "#update()\n",
        "set_3.update(set_4)\n",
        "print(set_3) # we can see in output \"brush\" is included only once because update() excludes repeated items same as union() method"
      ],
      "execution_count": null,
      "outputs": [
        {
          "output_type": "stream",
          "text": [
            "{'spoon', 'star', 'brush', 'chair', 'table'}\n"
          ],
          "name": "stdout"
        }
      ]
    },
    {
      "cell_type": "markdown",
      "metadata": {
        "id": "Unr48y24djOR",
        "colab_type": "text"
      },
      "source": [
        "set() constructor"
      ]
    },
    {
      "cell_type": "code",
      "metadata": {
        "id": "BfTF3hmtdo1T",
        "colab_type": "code",
        "colab": {
          "base_uri": "https://localhost:8080/",
          "height": 33
        },
        "outputId": "88e72175-2f6c-49ad-ef3c-6da8db5d7785"
      },
      "source": [
        "#its possible to make a set constructor using set()/ double brackets\n",
        "set_4=set((\"table\",\"chair\",\"brush\"))\n",
        "print(set_4)\n"
      ],
      "execution_count": null,
      "outputs": [
        {
          "output_type": "stream",
          "text": [
            "{'brush', 'table', 'chair'}\n"
          ],
          "name": "stdout"
        }
      ]
    },
    {
      "cell_type": "markdown",
      "metadata": {
        "id": "Fl2_wcjXgA-w",
        "colab_type": "text"
      },
      "source": [
        "**set methods**"
      ]
    },
    {
      "cell_type": "markdown",
      "metadata": {
        "id": "7JLagvz1fA7M",
        "colab_type": "text"
      },
      "source": [
        "\n",
        "\n",
        "1.add():\tAdds an element to the set\n",
        "2.clear():\tRemoves all the elements from the set\n",
        "3.copy():\tReturns a copy of the set\n",
        "4.difference():\tReturns a set containing the difference between two or more sets\n",
        "5.difference_update():Removes the items in this set that are also included in another, specified set\n",
        "6.discard():\tRemove the specified item\n",
        "7.intersection():Returns a set, that is the intersection of two other sets\n",
        "8.intersection_update()\t:Removes the items in this set that are not present in other, specified set(s)\n",
        "9.isdisjoint():\tReturns whether two sets have a intersection or not\n",
        "10.issubset():\tReturns whether another set contains this set or not\n",
        "11.issuperset():Returns whether this set contains another set or not\n",
        "12.pop():\tRemoves an element from the set\n",
        "13.remove()\t:Removes the specified element\n",
        "14.symmetric_difference():Returns a set with the symmetric differences of two sets\n",
        "15.symmetric_difference_update():\tinserts the symmetric differences from this set and another\n",
        "16.union():\tReturn a set containing the union of sets\n",
        "17.update():Update the set with the union of this set and others\n",
        "\n",
        "\n"
      ]
    },
    {
      "cell_type": "code",
      "metadata": {
        "id": "PHSS_Wi9f8Ww",
        "colab_type": "code",
        "colab": {
          "base_uri": "https://localhost:8080/",
          "height": 33
        },
        "outputId": "f2a3f0e9-5fab-46f5-dad3-e3995e7fa030"
      },
      "source": [
        "#Question 4: Given a list of n-1 numbers ranging from 1 to n, your task is to find the missing number. There are no duplicates.\n",
        "#Input Format:\n",
        "#The first line contains n-1 numbers with each number separated by a space.\n",
        "#Output Format:\n",
        "#Print the missing number\n",
        "#Example:\n",
        "#Input:\n",
        "#1 2 4 6 3 7 8\n",
        "#Output:\n",
        "#5\n",
        "#Explanation:\n",
        "#In the above list of numbers 5 is missing and hence 5 is the input\n",
        "\n",
        "\n",
        "def find(list1):\n",
        "  for x in range(list1[0],list1[-1]+1):\n",
        "     if x not in list1:\n",
        "       print(x,end=\" \")\n",
        "list1=[1,2,4,6]\n",
        "find(list1)\n"
      ],
      "execution_count": 9,
      "outputs": [
        {
          "output_type": "stream",
          "text": [
            "3 5 "
          ],
          "name": "stdout"
        }
      ]
    },
    {
      "cell_type": "code",
      "metadata": {
        "id": "wwoUzaSvjbur",
        "colab_type": "code",
        "colab": {
          "base_uri": "https://localhost:8080/",
          "height": 33
        },
        "outputId": "3600d558-270c-43c7-96f8-c54bea64b528"
      },
      "source": [
        "#Question 5:With a given list L, write a program to print this list L after removing all duplicate values with original order reserved.\n",
        "#Example:\n",
        "#If the input list is\n",
        "#12 24 35 24 88 120 155 88 120 155\n",
        "#Then the output should be\n",
        "#12 24 35 88 120 155\n",
        "#Explanation:\n",
        "#Third, the seventh and ninth element of the list L has been removed because it was already present.\n",
        "#Input Format:\n",
        "#In one line take the elements of the list L with each element separated by a space.\n",
        "#Output Format:\n",
        "#Print the elements of the modified list in one line with each element separated by a space.\n",
        "#Example:\n",
        "#Input:\n",
        "#12 24 35 24\n",
        "#Output:\n",
        "#12 24 35\n",
        "\n",
        "\n",
        "\n",
        "\n",
        "def r(dup):\n",
        "  f=[]\n",
        "  for num in dup:\n",
        "    if num not in f:\n",
        "      f.append(num)\n",
        "  for i in f:\n",
        "    print(i,end=\" \")\n",
        "\n",
        "dup=[12,24,35,24]\n",
        "r(dup)\n"
      ],
      "execution_count": null,
      "outputs": [
        {
          "output_type": "stream",
          "text": [
            "12 24 35 "
          ],
          "name": "stdout"
        }
      ]
    }
  ]
}